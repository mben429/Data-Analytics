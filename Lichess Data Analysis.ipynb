{
 "cells": [
  {
   "cell_type": "markdown",
   "metadata": {},
   "source": [
    "# Goals/questions to answer for this project (I may not be able to answer them all!)\n",
    "\n",
    "- Which openings work best generally for certain players within certain rating ranges?\n",
    "\n",
    "- Are there any obvious patterns related to why players may lose/win games\n",
    "\n",
    "- Does rating impact what kind of openings players play?\n",
    "\n",
    "- Does your oponents rating impact which opening you play?\n",
    "\n",
    "- Do players treat playing higher rated players/lower rated players?\n",
    "\n",
    "- Is there consequences for playing \"safer\" against higher rated players\n",
    "\n",
    "\n",
    "Final Goal will be to construct some technical and personalized tips/advice based on this analysis\n",
    "\n",
    "Method:\n",
    "\n",
    "Initially I will do an explatory analysis, just getting a feel for the data, this will include:\n",
    "\n",
    "- Analysis of openings used\n",
    "- Analysis of results of games in relation to many other attributes\n",
    "- Analysis of Player Ratings\n",
    "\n",
    "- More to come!"
   ]
  },
  {
   "cell_type": "code",
   "execution_count": null,
   "metadata": {},
   "outputs": [],
   "source": [
    "# Import important Modules\n",
    "!pip install plotly\n",
    "import pandas as pd\n",
    "import numpy as np\n",
    "\n",
    "import seaborn as sb\n",
    "import matplotlib\n",
    "import matplotlib.pyplot as plt\n",
    "import plotly.graph_objs as go\n",
    "import plotly.tools as tls\n",
    "import plotly.offline as py\n",
    "py.init_notebook_mode(connected=True)\n",
    "%matplotlib inline"
   ]
  },
  {
   "cell_type": "markdown",
   "metadata": {},
   "source": [
    "## Exploratory Analysis\n",
    "\n",
    "4 Parts:\n",
    "    1. Data Overview/Preview\n",
    "    2. Openings Analysis\n",
    "    3. Analysis of results of games\n",
    "    4. Analysis of Player Ratings"
   ]
  },
  {
   "cell_type": "markdown",
   "metadata": {},
   "source": [
    "### 1. Data Overview\n",
    "\n",
    "Questions to ask:\n",
    "   - What are the features and patterns of this dataset\n",
    "   - What things are noticeable?\n",
    "   - Do we need a bit of Preprocessing?\n"
   ]
  },
  {
   "cell_type": "code",
   "execution_count": null,
   "metadata": {},
   "outputs": [],
   "source": [
    "# Load data, and print first 5 rows displaying all columns\n",
    "data = pd.read_csv(\"games.csv\")\n",
    "data.head()"
   ]
  },
  {
   "cell_type": "code",
   "execution_count": 7,
   "metadata": {},
   "outputs": [
    {
     "name": "stdout",
     "output_type": "stream",
     "text": [
      "Number of unique Players: 15635\n"
     ]
    }
   ],
   "source": [
    "# How many Distinct Players do we have?\n",
    "# Get totals from both black and white which are unique, combine them, then get unique players from that combined list\n",
    "\n",
    "unique_white = data[\"white_id\"].unique().tolist()\n",
    "unique_black = data[\"black_id\"].unique().tolist()\n",
    "unique_white.extend(unique_black)\n",
    "\n",
    "all_players = []\n",
    "for player in unique_white:\n",
    "    if player not in all_players:\n",
    "        all_players.append(player)\n",
    "\n",
    "print(\"Number of unique Players:\", len(all_players))\n"
   ]
  },
  {
   "cell_type": "markdown",
   "metadata": {},
   "source": [
    "Quick Note about ratings:\n",
    "- Ratings in Chess are important, they obviously determine the skill of a player\n",
    "- We should make sure that our dataset is a good representation of a balanced collection of players\n",
    "- On Lichess.org if you follow this link https://lichess.org/stat/rating/distribution/blitz the average rating (blitz) overall is around the 1200 to 1600 mark, so if our dataset gives us an average player rating in this range, we will be happy\n",
    "- Extra Info: )\n",
    "     - Grandmasters tend to have an online rating of over 2500 (Magnus Carlsen, World Champion = 3100+), so picking out               their games (if there         are any) would be very beneficial in future analysis\n",
    "     - Very few break 2800 rating, so we can't expect many players of that level in this dataset"
   ]
  },
  {
   "cell_type": "code",
   "execution_count": 16,
   "metadata": {},
   "outputs": [
    {
     "name": "stdout",
     "output_type": "stream",
     "text": [
      "Mean Rating: 1592.73\n",
      "Max Rating: 2723\n",
      "Min Rating: 784\n",
      "Std Rating: 291.16\n"
     ]
    },
    {
     "data": {
      "image/png": "[encoded data removed]",
      "text/plain": [
       "<Figure size 432x288 with 1 Axes>"
      ]
     },
     "metadata": {
      "needs_background": "light"
     },
     "output_type": "display_data"
    }
   ],
   "source": [
    "# Remember, rating is changing every game, and since there are plenty of games with the same players,\n",
    "# a player in this dataset cannot be linked to one single rating\n",
    "\n",
    "# lets get a measure of the distribution of the ratings of the players for each game\n",
    "ratings = data[\"white_rating\"].tolist()\n",
    "b_ratings = data[\"black_rating\"].tolist()\n",
    "ratings.extend(b_ratings)\n",
    "\n",
    "# Basic Insights into what ratings we are working with\n",
    "mean_rating, max_rating, min_rating, std_rating = round(np.mean(ratings), 2), max(ratings), min(ratings), round(np.std(ratings), 2)\n",
    "print(\"Mean Rating:\", mean_rating)\n",
    "print(\"Max Rating:\", max_rating)\n",
    "print(\"Min Rating:\", min_rating)\n",
    "print(\"Std Rating:\", std_rating)\n",
    "\n",
    "# Set up a histogram, bins start from 700 to 2800+ is a good range in general for online chess analysis)\n",
    "\n",
    "# For the bins, bin \"length\" of 300 seemed reasonable as it distinguishes the different skill levels well \n",
    "bins = [i for i in range(700, 3100, 300)]\n",
    "\n",
    "plt.hist(ratings, bins, histtype=\"bar\", rwidth=0.9, color=\"orange\")\n",
    "plt.title(\"Distribution of Player Rating\")\n",
    "plt.xlabel(\"Player ratings\")\n",
    "plt.ylabel(\"Number of players\")\n",
    "plt.xticks(range(700, 3100, 300))\n",
    "plt.show()\n"
   ]
  },
  {
   "cell_type": "markdown",
   "metadata": {},
   "source": [
    "##### Takeaways from the plot\n",
    "\n",
    "- The above plot shows the data sort of follows a normal distribution, \n",
    "    - where the mean rating = 1592.73 and standard deviation = 291.16\n",
    "- Our data is a good in the sense that it generally represents an accurate population of approximately 15,000 chess players\n",
    "- We can see that most players fall in between 1300 to 1900\n",
    "- There are also more in the 1000 to 1300 range than the 1900 to 2200 range "
   ]
  },
  {
   "cell_type": "code",
   "execution_count": null,
   "metadata": {},
   "outputs": [],
   "source": []
  }
 ],
 "metadata": {
  "kernelspec": {
   "display_name": "Python 3",
   "language": "python",
   "name": "python3"
  },
  "language_info": {
   "codemirror_mode": {
    "name": "ipython",
    "version": 3
   },
   "file_extension": ".py",
   "mimetype": "text/x-python",
   "name": "python",
   "nbconvert_exporter": "python",
   "pygments_lexer": "ipython3",
   "version": "3.7.1"
  }
 },
 "nbformat": 4,
 "nbformat_minor": 2
}
