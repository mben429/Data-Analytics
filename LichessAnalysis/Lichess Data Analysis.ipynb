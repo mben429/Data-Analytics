{
 "cells": [
  {
   "cell_type": "markdown",
   "metadata": {},
   "source": [
    "## Lichess Dataset Analysis"
   ]
  },
  {
   "cell_type": "code",
   "execution_count": 1,
   "metadata": {},
   "outputs": [
    {
     "name": "stdout",
     "output_type": "stream",
     "text": [
      "Requirement already satisfied: plotly in c:\\program files\\python37\\lib\\site-packages (3.10.0)\n",
      "Requirement already satisfied: pytz in c:\\program files\\python37\\lib\\site-packages (from plotly) (2018.5)\n",
      "Requirement already satisfied: decorator>=4.0.6 in c:\\program files\\python37\\lib\\site-packages (from plotly) (4.4.0)\n",
      "Requirement already satisfied: six in c:\\users\\mtben\\appdata\\roaming\\python\\python37\\site-packages (from plotly) (1.11.0)\n",
      "Requirement already satisfied: nbformat>=4.2 in c:\\program files\\python37\\lib\\site-packages (from plotly) (4.4.0)\n",
      "Requirement already satisfied: retrying>=1.3.3 in c:\\program files\\python37\\lib\\site-packages (from plotly) (1.3.3)\n",
      "Requirement already satisfied: requests in c:\\program files\\python37\\lib\\site-packages (from plotly) (2.22.0)\n",
      "Requirement already satisfied: traitlets>=4.1 in c:\\program files\\python37\\lib\\site-packages (from nbformat>=4.2->plotly) (4.3.2)\n",
      "Requirement already satisfied: jsonschema!=2.5.0,>=2.4 in c:\\program files\\python37\\lib\\site-packages (from nbformat>=4.2->plotly) (3.0.1)\n",
      "Requirement already satisfied: jupyter-core in c:\\program files\\python37\\lib\\site-packages (from nbformat>=4.2->plotly) (4.5.0)\n",
      "Requirement already satisfied: ipython-genutils in c:\\program files\\python37\\lib\\site-packages (from nbformat>=4.2->plotly) (0.2.0)\n",
      "Requirement already satisfied: certifi>=2017.4.17 in c:\\program files\\python37\\lib\\site-packages (from requests->plotly) (2019.6.16)\n",
      "Requirement already satisfied: idna<2.9,>=2.5 in c:\\program files\\python37\\lib\\site-packages (from requests->plotly) (2.8)\n",
      "Requirement already satisfied: chardet<3.1.0,>=3.0.2 in c:\\program files\\python37\\lib\\site-packages (from requests->plotly) (3.0.4)\n",
      "Requirement already satisfied: urllib3!=1.25.0,!=1.25.1,<1.26,>=1.21.1 in c:\\program files\\python37\\lib\\site-packages (from requests->plotly) (1.25.3)\n",
      "Requirement already satisfied: attrs>=17.4.0 in c:\\program files\\python37\\lib\\site-packages (from jsonschema!=2.5.0,>=2.4->nbformat>=4.2->plotly) (19.1.0)\n",
      "Requirement already satisfied: setuptools in c:\\program files\\python37\\lib\\site-packages (from jsonschema!=2.5.0,>=2.4->nbformat>=4.2->plotly) (40.8.0)\n",
      "Requirement already satisfied: pyrsistent>=0.14.0 in c:\\program files\\python37\\lib\\site-packages (from jsonschema!=2.5.0,>=2.4->nbformat>=4.2->plotly) (0.15.3)\n"
     ]
    },
    {
     "name": "stderr",
     "output_type": "stream",
     "text": [
      "You are using pip version 19.0.3, however version 19.3.1 is available.\n",
      "You should consider upgrading via the 'python -m pip install --upgrade pip' command.\n"
     ]
    }
   ],
   "source": [
    "# Import important Modules\n",
    "!pip install plotly\n",
    "import pandas as pd\n",
    "import numpy as np\n",
    "\n",
    "import seaborn as sb\n",
    "import matplotlib\n",
    "import matplotlib.pyplot as plt\n",
    "from sklearn.preprocessing import LabelEncoder \n",
    "%matplotlib inline"
   ]
  },
  {
   "cell_type": "markdown",
   "metadata": {},
   "source": [
    "## Exploratory Analysis\n"
   ]
  },
  {
   "cell_type": "code",
   "execution_count": 2,
   "metadata": {},
   "outputs": [
    {
     "data": {
      "text/html": [
       "<div>\n",
       "<style scoped>\n",
       "    .dataframe tbody tr th:only-of-type {\n",
       "        vertical-align: middle;\n",
       "    }\n",
       "\n",
       "    .dataframe tbody tr th {\n",
       "        vertical-align: top;\n",
       "    }\n",
       "\n",
       "    .dataframe thead th {\n",
       "        text-align: right;\n",
       "    }\n",
       "</style>\n",
       "<table border=\"1\" class=\"dataframe\">\n",
       "  <thead>\n",
       "    <tr style=\"text-align: right;\">\n",
       "      <th></th>\n",
       "      <th>id</th>\n",
       "      <th>rated</th>\n",
       "      <th>created_at</th>\n",
       "      <th>last_move_at</th>\n",
       "      <th>turns</th>\n",
       "      <th>victory_status</th>\n",
       "      <th>winner</th>\n",
       "      <th>increment_code</th>\n",
       "      <th>white_id</th>\n",
       "      <th>white_rating</th>\n",
       "      <th>black_id</th>\n",
       "      <th>black_rating</th>\n",
       "      <th>moves</th>\n",
       "      <th>opening_eco</th>\n",
       "      <th>opening_name</th>\n",
       "      <th>opening_ply</th>\n",
       "    </tr>\n",
       "  </thead>\n",
       "  <tbody>\n",
       "    <tr>\n",
       "      <th>0</th>\n",
       "      <td>TZJHLljE</td>\n",
       "      <td>False</td>\n",
       "      <td>1.504210e+12</td>\n",
       "      <td>1.504210e+12</td>\n",
       "      <td>13</td>\n",
       "      <td>outoftime</td>\n",
       "      <td>white</td>\n",
       "      <td>15+2</td>\n",
       "      <td>bourgris</td>\n",
       "      <td>1500</td>\n",
       "      <td>a-00</td>\n",
       "      <td>1191</td>\n",
       "      <td>d4 d5 c4 c6 cxd5 e6 dxe6 fxe6 Nf3 Bb4+ Nc3 Ba5...</td>\n",
       "      <td>D10</td>\n",
       "      <td>Slav Defense: Exchange Variation</td>\n",
       "      <td>5</td>\n",
       "    </tr>\n",
       "    <tr>\n",
       "      <th>1</th>\n",
       "      <td>l1NXvwaE</td>\n",
       "      <td>True</td>\n",
       "      <td>1.504130e+12</td>\n",
       "      <td>1.504130e+12</td>\n",
       "      <td>16</td>\n",
       "      <td>resign</td>\n",
       "      <td>black</td>\n",
       "      <td>5+10</td>\n",
       "      <td>a-00</td>\n",
       "      <td>1322</td>\n",
       "      <td>skinnerua</td>\n",
       "      <td>1261</td>\n",
       "      <td>d4 Nc6 e4 e5 f4 f6 dxe5 fxe5 fxe5 Nxe5 Qd4 Nc6...</td>\n",
       "      <td>B00</td>\n",
       "      <td>Nimzowitsch Defense: Kennedy Variation</td>\n",
       "      <td>4</td>\n",
       "    </tr>\n",
       "    <tr>\n",
       "      <th>2</th>\n",
       "      <td>mIICvQHh</td>\n",
       "      <td>True</td>\n",
       "      <td>1.504130e+12</td>\n",
       "      <td>1.504130e+12</td>\n",
       "      <td>61</td>\n",
       "      <td>mate</td>\n",
       "      <td>white</td>\n",
       "      <td>5+10</td>\n",
       "      <td>ischia</td>\n",
       "      <td>1496</td>\n",
       "      <td>a-00</td>\n",
       "      <td>1500</td>\n",
       "      <td>e4 e5 d3 d6 Be3 c6 Be2 b5 Nd2 a5 a4 c5 axb5 Nc...</td>\n",
       "      <td>C20</td>\n",
       "      <td>King's Pawn Game: Leonardis Variation</td>\n",
       "      <td>3</td>\n",
       "    </tr>\n",
       "    <tr>\n",
       "      <th>3</th>\n",
       "      <td>kWKvrqYL</td>\n",
       "      <td>True</td>\n",
       "      <td>1.504110e+12</td>\n",
       "      <td>1.504110e+12</td>\n",
       "      <td>61</td>\n",
       "      <td>mate</td>\n",
       "      <td>white</td>\n",
       "      <td>20+0</td>\n",
       "      <td>daniamurashov</td>\n",
       "      <td>1439</td>\n",
       "      <td>adivanov2009</td>\n",
       "      <td>1454</td>\n",
       "      <td>d4 d5 Nf3 Bf5 Nc3 Nf6 Bf4 Ng4 e3 Nc6 Be2 Qd7 O...</td>\n",
       "      <td>D02</td>\n",
       "      <td>Queen's Pawn Game: Zukertort Variation</td>\n",
       "      <td>3</td>\n",
       "    </tr>\n",
       "    <tr>\n",
       "      <th>4</th>\n",
       "      <td>9tXo1AUZ</td>\n",
       "      <td>True</td>\n",
       "      <td>1.504030e+12</td>\n",
       "      <td>1.504030e+12</td>\n",
       "      <td>95</td>\n",
       "      <td>mate</td>\n",
       "      <td>white</td>\n",
       "      <td>30+3</td>\n",
       "      <td>nik221107</td>\n",
       "      <td>1523</td>\n",
       "      <td>adivanov2009</td>\n",
       "      <td>1469</td>\n",
       "      <td>e4 e5 Nf3 d6 d4 Nc6 d5 Nb4 a3 Na6 Nc3 Be7 b4 N...</td>\n",
       "      <td>C41</td>\n",
       "      <td>Philidor Defense</td>\n",
       "      <td>5</td>\n",
       "    </tr>\n",
       "  </tbody>\n",
       "</table>\n",
       "</div>"
      ],
      "text/plain": [
       "         id  rated    created_at  last_move_at  turns victory_status winner  \\\n",
       "0  TZJHLljE  False  1.504210e+12  1.504210e+12     13      outoftime  white   \n",
       "1  l1NXvwaE   True  1.504130e+12  1.504130e+12     16         resign  black   \n",
       "2  mIICvQHh   True  1.504130e+12  1.504130e+12     61           mate  white   \n",
       "3  kWKvrqYL   True  1.504110e+12  1.504110e+12     61           mate  white   \n",
       "4  9tXo1AUZ   True  1.504030e+12  1.504030e+12     95           mate  white   \n",
       "\n",
       "  increment_code       white_id  white_rating      black_id  black_rating  \\\n",
       "0           15+2       bourgris          1500          a-00          1191   \n",
       "1           5+10           a-00          1322     skinnerua          1261   \n",
       "2           5+10         ischia          1496          a-00          1500   \n",
       "3           20+0  daniamurashov          1439  adivanov2009          1454   \n",
       "4           30+3      nik221107          1523  adivanov2009          1469   \n",
       "\n",
       "                                               moves opening_eco  \\\n",
       "0  d4 d5 c4 c6 cxd5 e6 dxe6 fxe6 Nf3 Bb4+ Nc3 Ba5...         D10   \n",
       "1  d4 Nc6 e4 e5 f4 f6 dxe5 fxe5 fxe5 Nxe5 Qd4 Nc6...         B00   \n",
       "2  e4 e5 d3 d6 Be3 c6 Be2 b5 Nd2 a5 a4 c5 axb5 Nc...         C20   \n",
       "3  d4 d5 Nf3 Bf5 Nc3 Nf6 Bf4 Ng4 e3 Nc6 Be2 Qd7 O...         D02   \n",
       "4  e4 e5 Nf3 d6 d4 Nc6 d5 Nb4 a3 Na6 Nc3 Be7 b4 N...         C41   \n",
       "\n",
       "                             opening_name  opening_ply  \n",
       "0        Slav Defense: Exchange Variation            5  \n",
       "1  Nimzowitsch Defense: Kennedy Variation            4  \n",
       "2   King's Pawn Game: Leonardis Variation            3  \n",
       "3  Queen's Pawn Game: Zukertort Variation            3  \n",
       "4                        Philidor Defense            5  "
      ]
     },
     "execution_count": 2,
     "metadata": {},
     "output_type": "execute_result"
    }
   ],
   "source": [
    "# Load data, and print first 5 rows displaying all columns\n",
    "data = pd.read_csv(\"games.csv\")\n",
    "data.head()"
   ]
  },
  {
   "cell_type": "code",
   "execution_count": 3,
   "metadata": {},
   "outputs": [
    {
     "name": "stdout",
     "output_type": "stream",
     "text": [
      "Number of unique Players: 15635\n"
     ]
    }
   ],
   "source": [
    "# How many Distinct Players do we have?\n",
    "# Get totals from both black and white which are unique, combine them, then get unique players from that combined list\n",
    "\n",
    "unique_white = data[\"white_id\"].unique().tolist()\n",
    "unique_black = data[\"black_id\"].unique().tolist()\n",
    "unique_white.extend(unique_black)\n",
    "\n",
    "all_players = []\n",
    "for player in unique_white:\n",
    "    if player not in all_players:\n",
    "        all_players.append(player)\n",
    "\n",
    "print(\"Number of unique Players:\", len(all_players))\n"
   ]
  },
  {
   "cell_type": "markdown",
   "metadata": {},
   "source": [
    "Quick Note about ratings:\n",
    "- Ratings in Chess are important, they obviously determine the skill of a player\n",
    "- We should make sure that our dataset is a good representation of a balanced collection of players\n",
    "- On Lichess.org if you follow this link https://lichess.org/stat/rating/distribution/blitz the average rating (blitz) overall is around the 1200 to 1600 mark, so if our dataset gives us an average player rating in this range, we will be happy\n",
    "- Extra Info: )\n",
    "     - Grandmasters tend to have an online rating of over 2500 (Magnus Carlsen, World Champion = 3100+), so picking out               their games (if there         are any) would be very beneficial in future analysis\n",
    "     - Very few break 2800 rating, so we can't expect many players of that level in this dataset"
   ]
  },
  {
   "cell_type": "code",
   "execution_count": 4,
   "metadata": {},
   "outputs": [
    {
     "name": "stdout",
     "output_type": "stream",
     "text": [
      "Mean Rating: 1592.73\n",
      "Max Rating: 2723\n",
      "Min Rating: 784\n",
      "Std Rating: 291.16\n"
     ]
    },
    {
     "data": {
      "image/png": "[encoded data removed]",
      "text/plain": [
       "<Figure size 432x288 with 1 Axes>"
      ]
     },
     "metadata": {
      "needs_background": "light"
     },
     "output_type": "display_data"
    }
   ],
   "source": [
    "# Remember, rating is changing every game, and since there are plenty of games with the same players,\n",
    "# a player in this dataset cannot be linked to one single rating\n",
    "\n",
    "# lets get a measure of the distribution of the ratings of the players for each game\n",
    "ratings = data[\"white_rating\"].tolist()\n",
    "b_ratings = data[\"black_rating\"].tolist()\n",
    "ratings.extend(b_ratings)\n",
    "\n",
    "# Basic Insights into what ratings we are working with\n",
    "mean_rating, max_rating, min_rating, std_rating = round(np.mean(ratings), 2), max(ratings), min(ratings), round(np.std(ratings), 2)\n",
    "print(\"Mean Rating:\", mean_rating)\n",
    "print(\"Max Rating:\", max_rating)\n",
    "print(\"Min Rating:\", min_rating)\n",
    "print(\"Std Rating:\", std_rating)\n",
    "\n",
    "# Set up a histogram, bins start from 700 to 2800+ is a good range in general for online chess analysis)\n",
    "\n",
    "# For the bins, bin \"length\" of 300 seemed reasonable as it distinguishes the different skill levels well \n",
    "bins = [i for i in range(700, 3100, 300)]\n",
    "\n",
    "plt.hist(ratings, bins, histtype=\"bar\", rwidth=0.9, color=\"orange\")\n",
    "plt.title(\"Distribution of Player Rating\")\n",
    "plt.xlabel(\"Player ratings\")\n",
    "plt.ylabel(\"Number of players\")\n",
    "plt.xticks(range(700, 3100, 300))\n",
    "plt.show()\n"
   ]
  },
  {
   "cell_type": "markdown",
   "metadata": {},
   "source": [
    "##### Takeaways from the plot\n",
    "\n",
    "- The above plot shows the data sort of follows a normal distribution, \n",
    "    - where the mean rating = 1592.73 and standard deviation = 291.16\n",
    "- Our data is a good in the sense that it generally represents an accurate population of approximately 15,000 chess players\n",
    "- We can see that most players fall in between 1300 to 1900\n",
    "- There are also more in the 1000 to 1300 range than the 1900 to 2200 range "
   ]
  },
  {
   "cell_type": "code",
   "execution_count": 8,
   "metadata": {},
   "outputs": [
    {
     "data": {
      "image/png": "[encoded data removed]",
      "text/plain": [
       "<Figure size 432x288 with 1 Axes>"
      ]
     },
     "metadata": {
      "needs_background": "light"
     },
     "output_type": "display_data"
    }
   ],
   "source": [
    "# We can get a count of how many wins there were for each color\n",
    "white_wins = data[\"winner\"].tolist().count(\"white\")\n",
    "black_wins = data[\"winner\"].tolist().count(\"black\")\n",
    "\n",
    "\n",
    "plt.bar([\"White wins\", \"Black wins\"], [white_wins, black_wins], color=\"darkblue\", width=0.3)\n",
    "plt.show()"
   ]
  },
  {
   "cell_type": "markdown",
   "metadata": {},
   "source": [
    "#### Note:\n",
    "- This is a good indicator of a well balanced dataset, as overall it is known that having the white pieces, instantly gives you a small advantage in a game of chess. \n",
    "- So, it makes sense, that there are slightly more white wins than there are black"
   ]
  },
  {
   "cell_type": "code",
   "execution_count": 135,
   "metadata": {},
   "outputs": [
    {
     "name": "stdout",
     "output_type": "stream",
     "text": [
      "Number of unique openings: 1477\n"
     ]
    }
   ],
   "source": [
    "# we can see how many unique openings are played\n",
    "openings_unique = data[\"opening_name\"].unique().tolist()\n",
    "print(\"Number of unique openings:\", len(openings_unique))"
   ]
  },
  {
   "cell_type": "code",
   "execution_count": 136,
   "metadata": {},
   "outputs": [
    {
     "name": "stdout",
     "output_type": "stream",
     "text": [
      "Count of moves Dictionary: {'a3': 27, 'a4': 28, 'b3': 173, 'b4': 88, 'c3': 56, 'c4': 716, 'd3': 131, 'd4': 4522, 'e3': 416, 'e4': 12598, 'f3': 23, 'f4': 166, 'g3': 186, 'g4': 38, 'h3': 14, 'h4': 33, 'Nf': 725, 'Nh': 15, 'Na': 4, 'Nc': 99}\n"
     ]
    }
   ],
   "source": [
    "# Q1 - white opening move is always first move, so just first two characters in each string in each moves column \n",
    "list_of_first_moves = [moves[:2] for moves in data[\"moves\"]]\n",
    "# not many opening moves possible, so we can easily put all possible into a list\n",
    "poss_opening_moves = [\"a3\", \"a4\", \"b3\", \"b4\", \"c3\", \"c4\", \"d3\", \"d4\", \"e3\", \"e4\", \"f3\", \"f4\", \"g3\", \"g4\", \"h3\", \"h4\", \"Nf\", \"Nh\", \"Na\", \"Nc\"]\n",
    "\n",
    "dict_moves_count = {}\n",
    "\n",
    "for op_move in poss_opening_moves:\n",
    "    dict_moves_count[op_move] = list_of_first_moves.count(op_move)\n",
    "print(\"Count of moves Dictionary:\", dict_moves_count)\n"
   ]
  },
  {
   "cell_type": "code",
   "execution_count": 137,
   "metadata": {},
   "outputs": [
    {
     "data": {
      "image/png": "[encoded data removed]",
      "text/plain": [
       "<Figure size 432x288 with 1 Axes>"
      ]
     },
     "metadata": {
      "needs_background": "light"
     },
     "output_type": "display_data"
    }
   ],
   "source": [
    "# Plot moves frequency via bar chart\n",
    "plt.bar(range(len(dict_moves_count)), list(dict_moves_count.values()), align=\"center\")\n",
    "plt.xticks(range(len(dict_moves_count)), list(dict_moves_count.keys()))\n",
    "plt.show()\n"
   ]
  },
  {
   "cell_type": "markdown",
   "metadata": {},
   "source": [
    "#### Takeaways from plot\n",
    "\n",
    "- We know before coming in that d4 and e4 were the most common moves.\n",
    "- This seems to be evident from the plot, so we can confirm that this data is generally accurate of a common chess 20,000 games\n",
    "\n",
    "\n"
   ]
  },
  {
   "cell_type": "markdown",
   "metadata": {},
   "source": [
    "## Great.... Now to start Preparing the data for modelling process"
   ]
  },
  {
   "cell_type": "markdown",
   "metadata": {},
   "source": [
    "- Create new difference between rating column\n",
    "- Encode winner column, rated, Opening Eco, victory status\n",
    "- The time for the game is going to be a factor I'm sure, but need to think about how to encode this one\n",
    "    - I will say 4 categories \n",
    "        - (t < 3 is Bullet)\n",
    "        - (t >= 3 and t <= 15 is Blitz)\n",
    "        - (t >= 15 and t <= 30 is Rapid)\n",
    "        - (t >= 30 is Classical)\n",
    "- Remove the necassary colunms\n",
    "    - moves, opening name, open_ply columns (we only need opening eco)\n",
    "    - created_at and last_move_at (not necessary)\n",
    "    - game_id, white_id, black_id\n"
   ]
  },
  {
   "cell_type": "code",
   "execution_count": 138,
   "metadata": {},
   "outputs": [],
   "source": [
    "# rating difference column creation\n",
    "\n",
    "def dif(col_1val, col_2val):\n",
    "    return col_1val - col_2val\n",
    "\n",
    "data[\"rating_diff\"] = [dif(data[\"white_rating\"][i], data[\"black_rating\"][i]) for i in range(len(data))]\n"
   ]
  },
  {
   "cell_type": "code",
   "execution_count": 139,
   "metadata": {},
   "outputs": [],
   "source": [
    "# Encode necessary columns, create new DataFrame\n",
    "data_copy = data.copy()\n",
    "l_encode = LabelEncoder()\n",
    "\n",
    "# Encode winner (target) = 0, 1, 2 (0 black loss, 1 draw, 2 white win)\n",
    "data_copy[\"EncWinner\"] = l_encode.fit_transform(data[\"winner\"])\n",
    "\n",
    "data_copy[\"EncRated\"] = l_encode.fit_transform(data[\"rated\"])\n",
    "data_copy[\"EncOpeningEco\"] = l_encode.fit_transform(data[\"opening_eco\"])\n",
    "data_copy[\"EncVictoryStatus\"] = l_encode.fit_transform(data[\"victory_status\"])\n",
    "\n",
    "# Encode Time control (increment_code) column into 4 categories (Bullet, Blitz, Rapid, Classical)\n",
    "def encode_time(time):\n",
    "    index_plus = time.index(\"+\")\n",
    "    minutes = int(time[:index_plus])\n",
    "    \n",
    "    if minutes < 3:\n",
    "        return 0\n",
    "    elif minutes >= 3 and minutes < 15:\n",
    "        return 1\n",
    "    elif minutes >= 15 and minutes < 30:\n",
    "        return 2\n",
    "    elif minutes >= 30:\n",
    "        return 3\n",
    "    else:\n",
    "        # invalid\n",
    "        return -1\n",
    "    \n",
    "data_copy[\"EncIncrementCode\"] = data[\"increment_code\"].apply(lambda x: encode_time(x))"
   ]
  },
  {
   "cell_type": "code",
   "execution_count": 140,
   "metadata": {},
   "outputs": [],
   "source": [
    "# Feature reduction, drop unnessacary colunms\n",
    "data_copy.drop([\"id\", \"rated\", \"created_at\", \"last_move_at\", \n",
    "                \"victory_status\", \"winner\", \"increment_code\", \"white_id\",\n",
    "               \"black_id\", \"moves\", \"opening_eco\", \"opening_name\", \"opening_ply\"], axis=1, inplace=True)\n"
   ]
  },
  {
   "cell_type": "code",
   "execution_count": 141,
   "metadata": {},
   "outputs": [
    {
     "data": {
      "text/html": [
       "<div>\n",
       "<style scoped>\n",
       "    .dataframe tbody tr th:only-of-type {\n",
       "        vertical-align: middle;\n",
       "    }\n",
       "\n",
       "    .dataframe tbody tr th {\n",
       "        vertical-align: top;\n",
       "    }\n",
       "\n",
       "    .dataframe thead th {\n",
       "        text-align: right;\n",
       "    }\n",
       "</style>\n",
       "<table border=\"1\" class=\"dataframe\">\n",
       "  <thead>\n",
       "    <tr style=\"text-align: right;\">\n",
       "      <th></th>\n",
       "      <th>turns</th>\n",
       "      <th>white_rating</th>\n",
       "      <th>black_rating</th>\n",
       "      <th>rating_diff</th>\n",
       "      <th>EncWinner</th>\n",
       "      <th>EncRated</th>\n",
       "      <th>EncOpeningEco</th>\n",
       "      <th>EncVictoryStatus</th>\n",
       "      <th>EncIncrementCode</th>\n",
       "    </tr>\n",
       "  </thead>\n",
       "  <tbody>\n",
       "    <tr>\n",
       "      <th>0</th>\n",
       "      <td>13</td>\n",
       "      <td>1500</td>\n",
       "      <td>1191</td>\n",
       "      <td>309</td>\n",
       "      <td>2</td>\n",
       "      <td>0</td>\n",
       "      <td>248</td>\n",
       "      <td>2</td>\n",
       "      <td>2</td>\n",
       "    </tr>\n",
       "    <tr>\n",
       "      <th>1</th>\n",
       "      <td>16</td>\n",
       "      <td>1322</td>\n",
       "      <td>1261</td>\n",
       "      <td>61</td>\n",
       "      <td>0</td>\n",
       "      <td>1</td>\n",
       "      <td>71</td>\n",
       "      <td>3</td>\n",
       "      <td>1</td>\n",
       "    </tr>\n",
       "    <tr>\n",
       "      <th>2</th>\n",
       "      <td>61</td>\n",
       "      <td>1496</td>\n",
       "      <td>1500</td>\n",
       "      <td>-4</td>\n",
       "      <td>2</td>\n",
       "      <td>1</td>\n",
       "      <td>171</td>\n",
       "      <td>1</td>\n",
       "      <td>1</td>\n",
       "    </tr>\n",
       "    <tr>\n",
       "      <th>3</th>\n",
       "      <td>61</td>\n",
       "      <td>1439</td>\n",
       "      <td>1454</td>\n",
       "      <td>-15</td>\n",
       "      <td>2</td>\n",
       "      <td>1</td>\n",
       "      <td>241</td>\n",
       "      <td>1</td>\n",
       "      <td>2</td>\n",
       "    </tr>\n",
       "    <tr>\n",
       "      <th>4</th>\n",
       "      <td>95</td>\n",
       "      <td>1523</td>\n",
       "      <td>1469</td>\n",
       "      <td>54</td>\n",
       "      <td>2</td>\n",
       "      <td>1</td>\n",
       "      <td>192</td>\n",
       "      <td>1</td>\n",
       "      <td>3</td>\n",
       "    </tr>\n",
       "  </tbody>\n",
       "</table>\n",
       "</div>"
      ],
      "text/plain": [
       "   turns  white_rating  black_rating  rating_diff  EncWinner  EncRated  \\\n",
       "0     13          1500          1191          309          2         0   \n",
       "1     16          1322          1261           61          0         1   \n",
       "2     61          1496          1500           -4          2         1   \n",
       "3     61          1439          1454          -15          2         1   \n",
       "4     95          1523          1469           54          2         1   \n",
       "\n",
       "   EncOpeningEco  EncVictoryStatus  EncIncrementCode  \n",
       "0            248                 2                 2  \n",
       "1             71                 3                 1  \n",
       "2            171                 1                 1  \n",
       "3            241                 1                 2  \n",
       "4            192                 1                 3  "
      ]
     },
     "execution_count": 141,
     "metadata": {},
     "output_type": "execute_result"
    }
   ],
   "source": [
    "# New DataFrame\n",
    "data_copy.head()"
   ]
  },
  {
   "cell_type": "markdown",
   "metadata": {},
   "source": [
    "#### Feature Selection\n",
    "\n",
    "- Now we have reduced the features, lets see if we can reduce more by filtering using the Pearson correlation\n"
   ]
  },
  {
   "cell_type": "code",
   "execution_count": 142,
   "metadata": {},
   "outputs": [
    {
     "data": {
      "image/png": "[encoded data removed]",
      "text/plain": [
       "<Figure size 864x720 with 2 Axes>"
      ]
     },
     "metadata": {
      "needs_background": "light"
     },
     "output_type": "display_data"
    }
   ],
   "source": [
    "plt.figure(figsize=(12, 10))\n",
    "cor = data_copy.corr()\n",
    "sb.heatmap(cor, annot=True, cmap=plt.cm.Reds)\n",
    "plt.show()"
   ]
  },
  {
   "cell_type": "markdown",
   "metadata": {},
   "source": [
    "#### Interpreting the HeatMap\n",
    "\n",
    "Lookin at the HeatMap, we see that overall there are not many strong correlations that catch our eye. \n",
    "A correlation between two variables of over 0.5 is only achieved a few times, with the relationship of player ratings\n",
    "This is simply due to the fact of players of similar ratings will play against each other. \n",
    "\n",
    "The difference of rating is the most highly correlated variable (0.36), this can be considered a moderate correlation"
   ]
  },
  {
   "cell_type": "code",
   "execution_count": 144,
   "metadata": {},
   "outputs": [
    {
     "name": "stdout",
     "output_type": "stream",
     "text": [
      "rating_diff    0.360669\n",
      "EncWinner      1.000000\n",
      "Name: EncWinner, dtype: float64\n"
     ]
    }
   ],
   "source": [
    "# Lets get the correlation with the output variable (winner)\n",
    "cor_target = abs(cor[\"EncWinner\"])\n",
    "relavent_features = cor_target[cor_target > 0.2]\n",
    "print(relavent_features)\n",
    "\n"
   ]
  },
  {
   "cell_type": "markdown",
   "metadata": {},
   "source": [
    "#### Increase correlation?\n",
    "\n",
    "I was dissapointed to see not much correlation between opening played and the result. \n",
    "I want to replace the colunm of \"opening_eco\" to simply the opening move played (\"e4\", \"d4\" etc...)\n",
    "Coming soon..."
   ]
  },
  {
   "cell_type": "code",
   "execution_count": null,
   "metadata": {},
   "outputs": [],
   "source": []
  }
 ],
 "metadata": {
  "kernelspec": {
   "display_name": "Python 3",
   "language": "python",
   "name": "python3"
  },
  "language_info": {
   "codemirror_mode": {
    "name": "ipython",
    "version": 3
   },
   "file_extension": ".py",
   "mimetype": "text/x-python",
   "name": "python",
   "nbconvert_exporter": "python",
   "pygments_lexer": "ipython3",
   "version": "3.7.1"
  }
 },
 "nbformat": 4,
 "nbformat_minor": 2
}
